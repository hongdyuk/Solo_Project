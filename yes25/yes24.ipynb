{
 "cells": [
  {
   "cell_type": "code",
   "execution_count": 2,
   "metadata": {},
   "outputs": [
    {
     "data": {
      "text/plain": [
       "'/Users/mac/.wdm/drivers/chromedriver/mac64/126.0.6478.182/chromedriver-mac-arm64/chromedriver'"
      ]
     },
     "execution_count": 2,
     "metadata": {},
     "output_type": "execute_result"
    }
   ],
   "source": [
    "from selenium import webdriver\n",
    "from webdriver_manager.chrome import ChromeDriverManager\n",
    "\n",
    "ChromeDriverManager().install()\n"
   ]
  },
  {
   "cell_type": "code",
   "execution_count": 21,
   "metadata": {},
   "outputs": [],
   "source": [
    "browser = webdriver.Chrome()"
   ]
  },
  {
   "cell_type": "code",
   "execution_count": 13,
   "metadata": {},
   "outputs": [],
   "source": [
    "url = 'https://google.com'\n",
    "browser.get(url)"
   ]
  },
  {
   "cell_type": "code",
   "execution_count": 15,
   "metadata": {},
   "outputs": [
    {
     "data": {
      "text/plain": [
       "'대한민국'"
      ]
     },
     "execution_count": 15,
     "metadata": {},
     "output_type": "execute_result"
    }
   ],
   "source": [
    "from selenium.webdriver.common.by import By\n",
    "\n",
    "browser.find_element(By.CLASS_NAME, 'uU7dJb').text"
   ]
  },
  {
   "cell_type": "code",
   "execution_count": 22,
   "metadata": {},
   "outputs": [],
   "source": [
    "url = \"https://www.yes24.com/Product/Category/BestSeller?categoryNumber=001&pageNumber=1&pageSize=24\"\n",
    "browser.get(url)"
   ]
  },
  {
   "cell_type": "code",
   "execution_count": 27,
   "metadata": {},
   "outputs": [
    {
     "name": "stdout",
     "output_type": "stream",
     "text": [
      "https://www.yes24.com/Product/Goods/125557465\n",
      "https://www.yes24.com/Product/Goods/128266166\n",
      "https://www.yes24.com/Product/Goods/124999476\n",
      "https://www.yes24.com/Product/Goods/123930880\n",
      "https://www.yes24.com/Product/Goods/124225606\n",
      "https://www.yes24.com/Product/Goods/127094902\n",
      "https://www.yes24.com/Product/Goods/128133897\n",
      "https://www.yes24.com/Product/Goods/104663596\n",
      "https://www.yes24.com/Product/Goods/123930891\n",
      "https://www.yes24.com/Product/Goods/117014613\n",
      "https://www.yes24.com/Product/Goods/124043812\n",
      "https://www.yes24.com/Product/Goods/124043802\n",
      "https://www.yes24.com/Product/Goods/126511412\n",
      "https://www.yes24.com/Product/Goods/126845471\n",
      "https://www.yes24.com/Product/Goods/126702038\n",
      "https://www.yes24.com/Product/Goods/125295101\n",
      "https://www.yes24.com/Product/Goods/126516935\n",
      "https://www.yes24.com/Product/Goods/126590468\n",
      "https://www.yes24.com/Product/Goods/124539805\n",
      "https://www.yes24.com/Product/Goods/8759796\n",
      "https://www.yes24.com/Product/Goods/125576919\n",
      "https://www.yes24.com/Product/Goods/122120495\n",
      "https://www.yes24.com/Product/Goods/96547408\n",
      "https://www.yes24.com/Product/Goods/123675187\n"
     ]
    }
   ],
   "source": [
    "browser.find_element(By.CLASS_NAME, 'gd_name').get_attribute('herf')\n",
    "\n",
    "\n",
    "datas = browser.find_elements(By.CLASS_NAME, 'gd_name')\n",
    "\n",
    "for i in datas:\n",
    "    print(i.get_attribute('href'))"
   ]
  },
  {
   "cell_type": "code",
   "execution_count": 32,
   "metadata": {},
   "outputs": [
    {
     "name": "stdout",
     "output_type": "stream",
     "text": [
      "현재 1 페이지 수집 중 입니다.\n",
      "현재 2 페이지 수집 중 입니다.\n",
      "현재 3 페이지 수집 중 입니다.\n",
      "['https://www.yes24.com/Product/Goods/125557465', 'https://www.yes24.com/Product/Goods/128266166', 'https://www.yes24.com/Product/Goods/124999476', 'https://www.yes24.com/Product/Goods/123930880', 'https://www.yes24.com/Product/Goods/124225606', 'https://www.yes24.com/Product/Goods/127094902', 'https://www.yes24.com/Product/Goods/128133897', 'https://www.yes24.com/Product/Goods/104663596', 'https://www.yes24.com/Product/Goods/123930891', 'https://www.yes24.com/Product/Goods/117014613', 'https://www.yes24.com/Product/Goods/124043812', 'https://www.yes24.com/Product/Goods/124043802', 'https://www.yes24.com/Product/Goods/126511412', 'https://www.yes24.com/Product/Goods/126845471', 'https://www.yes24.com/Product/Goods/126702038', 'https://www.yes24.com/Product/Goods/125295101', 'https://www.yes24.com/Product/Goods/126516935', 'https://www.yes24.com/Product/Goods/126590468', 'https://www.yes24.com/Product/Goods/124539805', 'https://www.yes24.com/Product/Goods/8759796', 'https://www.yes24.com/Product/Goods/125576919', 'https://www.yes24.com/Product/Goods/122120495', 'https://www.yes24.com/Product/Goods/96547408', 'https://www.yes24.com/Product/Goods/123675187', 'https://www.yes24.com/Product/Goods/125992096', 'https://www.yes24.com/Product/Goods/128913049', 'https://www.yes24.com/Product/Goods/125969665', 'https://www.yes24.com/Product/Goods/67362730', 'https://www.yes24.com/Product/Goods/129043527', 'https://www.yes24.com/Product/Goods/124702605', 'https://www.yes24.com/Product/Goods/127050264', 'https://www.yes24.com/Product/Goods/128251777', 'https://www.yes24.com/Product/Goods/127098745', 'https://www.yes24.com/Product/Goods/101864763', 'https://www.yes24.com/Product/Goods/128196803', 'https://www.yes24.com/Product/Goods/128710948', 'https://www.yes24.com/Product/Goods/128218178', 'https://www.yes24.com/Product/Goods/128829285', 'https://www.yes24.com/Product/Goods/28995741', 'https://www.yes24.com/Product/Goods/121826324', 'https://www.yes24.com/Product/Goods/128917300', 'https://www.yes24.com/Product/Goods/7320104', 'https://www.yes24.com/Product/Goods/126670771', 'https://www.yes24.com/Product/Goods/128182633', 'https://www.yes24.com/Product/Goods/128869555', 'https://www.yes24.com/Product/Goods/124219505', 'https://www.yes24.com/Product/Goods/128869414', 'https://www.yes24.com/Product/Goods/127095422', 'https://www.yes24.com/Product/Goods/128702347', 'https://www.yes24.com/Product/Goods/122090360', 'https://www.yes24.com/Product/Goods/28995747', 'https://www.yes24.com/Product/Goods/127095428', 'https://www.yes24.com/Product/Goods/128849999', 'https://www.yes24.com/Product/Goods/123400303', 'https://www.yes24.com/Product/Goods/127086686', 'https://www.yes24.com/Product/Goods/127012688', 'https://www.yes24.com/Product/Goods/91868954', 'https://www.yes24.com/Product/Goods/128869569', 'https://www.yes24.com/Product/Goods/125384743', 'https://www.yes24.com/Product/Goods/116467955', 'https://www.yes24.com/Product/Goods/127044545', 'https://www.yes24.com/Product/Goods/125448202', 'https://www.yes24.com/Product/Goods/125971089', 'https://www.yes24.com/Product/Goods/125806618', 'https://www.yes24.com/Product/Goods/119458052', 'https://www.yes24.com/Product/Goods/118578901', 'https://www.yes24.com/Product/Goods/121911671', 'https://www.yes24.com/Product/Goods/117933045', 'https://www.yes24.com/Product/Goods/127047306', 'https://www.yes24.com/Product/Goods/2312211', 'https://www.yes24.com/Product/Goods/124489429', 'https://www.yes24.com/Product/Goods/125117836']\n"
     ]
    }
   ],
   "source": [
    "import time\n",
    "\n",
    "link_list = []\n",
    "for i in range(1,4):\n",
    "    print(f'현재 {i} 페이지 수집 중 입니다.')\n",
    "    url = f\"https://www.yes24.com/Product/Category/BestSeller?categoryNumber=001&pageNumber={i}&pageSize=24\"\n",
    "    browser.get(url)\n",
    "\n",
    "    datas = browser.find_elements(By.CLASS_NAME, 'gd_name')\n",
    "    for i in datas:\n",
    "        link = i.get_attribute('href')\n",
    "        link_list.append(link)\n",
    "\n",
    "    time.sleep(3)\n",
    "\n",
    "print(link_list)"
   ]
  },
  {
   "cell_type": "code",
   "execution_count": 37,
   "metadata": {},
   "outputs": [
    {
     "name": "stdout",
     "output_type": "stream",
     "text": [
      "베스트 국내도서 1위\n"
     ]
    }
   ],
   "source": [
    "# for link in link_list:\n",
    "#     browser.get(link)\n",
    "browser.get('https://www.yes24.com/Product/Goods/125557465')\n",
    "\n",
    "title = browser.find_element(By.CLASS_NAME, 'gd_name').text\n",
    "author = browser.find_element(By.CLASS_NAME, 'gd_auth').text\n",
    "publisher = browser.find_element(By.CLASS_NAME, 'gd_pub').text\n",
    "publishing = browser.find_element(By.CLASS_NAME, 'gd_date').text\n",
    "rating = browser.find_element(By.CLASS_NAME, 'yes_b').text\n",
    "reviews = browser.find_element(By.CLASS_NAME, 'txC_blue').text\n",
    "sales = browser.find_element(By.CLASS_NAME, 'gd_sellNum').text.split(' ')[2]\n",
    "price = browser.find_element(By.CLASS_NAME, 'yes_m').text[:-1]\n",
    "ranking = browser.find_element(By.CLASS_NAME, 'gd_best').text.split(' | ')[0]\n",
    "ranking_weeks = browser.find_element(By.CLASS_NAME, 'gd_best').text.split(' | ')[1]\n",
    "\n",
    "print(ranking)\n",
    "browser.close()"
   ]
  }
 ],
 "metadata": {
  "kernelspec": {
   "display_name": ".venv",
   "language": "python",
   "name": "python3"
  },
  "language_info": {
   "codemirror_mode": {
    "name": "ipython",
    "version": 3
   },
   "file_extension": ".py",
   "mimetype": "text/x-python",
   "name": "python",
   "nbconvert_exporter": "python",
   "pygments_lexer": "ipython3",
   "version": "3.12.4"
  }
 },
 "nbformat": 4,
 "nbformat_minor": 2
}
